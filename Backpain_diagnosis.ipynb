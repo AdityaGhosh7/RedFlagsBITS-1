import warnings
warnings.filterwarnings('ignore')

from langchain.chat_models import ChatOpenAI
from langchain.prompts import ChatPromptTemplate
from langchain.chains import LLMChain

llm = ChatOpenAI(temperature=0)

backpain_template = """You are a professional doctor. \
You are great at answering questions about various diagnosis in a concise \
and easy to understand manner. \
If you are asked for a particular type of symptom you answer it with its description, possible diagnosis, symptoms, causes, risk factors, and treatments. \
When you don't know the answer to a question, you admit that you don't know.

Here is a question:
{input}"""

prompt_template = backpain_template
prompt = ChatPromptTemplate.from_template(template=prompt_template)
chain = LLMChain(llm=llm, prompt=prompt)

def symptom_checker():
    selected_symptoms = input("Enter your symptoms (separated by commas): ")
    input_text = " ".join(selected_symptoms.split(","))
    response = chain.run(input_text)
    diagnosis_info = response
    
    print("Selected Symptoms:")
    print(selected_symptoms)
    print("\nDiagnosis Information:")
    print(diagnosis_info)

symptom_checker()
